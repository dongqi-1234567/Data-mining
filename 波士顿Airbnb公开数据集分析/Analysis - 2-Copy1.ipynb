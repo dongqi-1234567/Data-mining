{
 "cells": [
  {
   "cell_type": "markdown",
   "metadata": {},
   "source": [
    "# ANALYSIS - 2"
   ]
  },
  {
   "cell_type": "markdown",
   "metadata": {},
   "source": [
    "# Where to Invest a Property in BOSTON to get maximum returns from Airbnb?"
   ]
  },
  {
   "cell_type": "markdown",
   "metadata": {},
   "source": [
    " Lets check average prices for these listings based on room type"
   ]
  },
  {
   "cell_type": "code",
   "execution_count": 3,
   "metadata": {},
   "outputs": [],
   "source": [
    "# cleaning the data\n",
    "\n",
    "import pandas as pd\n",
    "import numpy as np\n",
    "\n",
    "inputDF = pd.read_csv('listings.csv')\n",
    "inputDF=inputDF[['id','name','summary','longitude','latitude','space','description','instant_bookable','neighborhood_overview','neighbourhood_cleansed','host_id','host_name','host_since',\n",
    "                 'host_response_time','street', 'zipcode','review_scores_rating','property_type','room_type','accommodates','bathrooms','bedrooms','beds','reviews_per_month','amenities','cancellation_policy','number_of_reviews','price']]\n",
    "\n",
    "# replacing NaN values with 0\n",
    "inputDF.fillna(0, inplace=True)\n",
    "\n",
    "#Extracting prices from the table\n",
    "price = inputDF['price']\n",
    "\n",
    "prices=[]\n",
    "\n",
    "#clean the data to make it float\n",
    "for p in price:\n",
    "    p=float(p[1:].replace(',',''))\n",
    "    prices.append(p)\n",
    "\n",
    "#replace the price column with the new column\n",
    "inputDF['price']=prices\n",
    "\n",
    "#exclude the listings with 0 for price,beds,bedrooms,accomodates etc\n",
    "inputDF = inputDF[inputDF.bathrooms >0]\n",
    "inputDF = inputDF[inputDF.bedrooms > 0]\n",
    "inputDF = inputDF[inputDF.beds > 0]\n",
    "inputDF = inputDF[inputDF.price  > 0]\n",
    "inputDF = inputDF[inputDF.review_scores_rating  > 0]\n",
    "inputDF = inputDF[inputDF.reviews_per_month > 0]\n",
    "inputDF = inputDF[inputDF.accommodates  > 0]"
   ]
  },
  {
   "cell_type": "code",
   "execution_count": 4,
   "metadata": {},
   "outputs": [
    {
     "data": {
      "text/html": [
       "<div>\n",
       "<style scoped>\n",
       "    .dataframe tbody tr th:only-of-type {\n",
       "        vertical-align: middle;\n",
       "    }\n",
       "\n",
       "    .dataframe tbody tr th {\n",
       "        vertical-align: top;\n",
       "    }\n",
       "\n",
       "    .dataframe thead th {\n",
       "        text-align: right;\n",
       "    }\n",
       "</style>\n",
       "<table border=\"1\" class=\"dataframe\">\n",
       "  <thead>\n",
       "    <tr style=\"text-align: right;\">\n",
       "      <th></th>\n",
       "      <th>room_type</th>\n",
       "      <th>average_Price</th>\n",
       "    </tr>\n",
       "  </thead>\n",
       "  <tbody>\n",
       "    <tr>\n",
       "      <th>0</th>\n",
       "      <td>Entire home/apt</td>\n",
       "      <td>232.322326</td>\n",
       "    </tr>\n",
       "    <tr>\n",
       "      <th>1</th>\n",
       "      <td>Private room</td>\n",
       "      <td>89.505184</td>\n",
       "    </tr>\n",
       "    <tr>\n",
       "      <th>2</th>\n",
       "      <td>Shared room</td>\n",
       "      <td>69.903846</td>\n",
       "    </tr>\n",
       "  </tbody>\n",
       "</table>\n",
       "</div>"
      ],
      "text/plain": [
       "         room_type  average_Price\n",
       "0  Entire home/apt     232.322326\n",
       "1     Private room      89.505184\n",
       "2      Shared room      69.903846"
      ]
     },
     "execution_count": 4,
     "metadata": {},
     "output_type": "execute_result"
    }
   ],
   "source": [
    "# Average prices for each type of listing\n",
    "\n",
    "avgPrice_DF=inputDF.groupby('room_type').price.mean()\n",
    "avgPrice_DF=avgPrice_DF.reset_index()\n",
    "avgPrice_DF=avgPrice_DF.rename(columns={'price':'average_Price'})\n",
    "avgPrice_DF"
   ]
  },
  {
   "cell_type": "markdown",
   "metadata": {},
   "source": [
    "#得出结论： Entire home/Apartment 的平均房价是最高的"
   ]
  },
  {
   "cell_type": "code",
   "execution_count": 5,
   "metadata": {},
   "outputs": [],
   "source": [
    "# Geographical Clusters to find out which area in Boston has maximum listings on Airbnb\n",
    "\n",
    "# seggregating each type of property\n",
    "\n",
    "home = inputDF[(inputDF.room_type == 'Entire home/apt')]\n",
    "private = inputDF[(inputDF.room_type == 'Private room')]\n",
    "shared = inputDF[(inputDF.room_type == 'Shared room')]\n",
    "\n",
    "location_home = home[['latitude', 'longitude']]\n",
    "location_private = private[['latitude', 'longitude']]\n",
    "location_shared = shared[['latitude', 'longitude']]"
   ]
  },
  {
   "cell_type": "code",
   "execution_count": 6,
   "metadata": {},
   "outputs": [
    {
     "data": {
      "text/html": [
       "<div>\n",
       "<style scoped>\n",
       "    .dataframe tbody tr th:only-of-type {\n",
       "        vertical-align: middle;\n",
       "    }\n",
       "\n",
       "    .dataframe tbody tr th {\n",
       "        vertical-align: top;\n",
       "    }\n",
       "\n",
       "    .dataframe thead th {\n",
       "        text-align: right;\n",
       "    }\n",
       "</style>\n",
       "<table border=\"1\" class=\"dataframe\">\n",
       "  <thead>\n",
       "    <tr style=\"text-align: right;\">\n",
       "      <th></th>\n",
       "      <th>neighbourhood_cleansed</th>\n",
       "      <th>Number_Of_Listings</th>\n",
       "    </tr>\n",
       "  </thead>\n",
       "  <tbody>\n",
       "    <tr>\n",
       "      <th>21</th>\n",
       "      <td>South End</td>\n",
       "      <td>165</td>\n",
       "    </tr>\n",
       "    <tr>\n",
       "      <th>1</th>\n",
       "      <td>Back Bay</td>\n",
       "      <td>157</td>\n",
       "    </tr>\n",
       "    <tr>\n",
       "      <th>12</th>\n",
       "      <td>Jamaica Plain</td>\n",
       "      <td>125</td>\n",
       "    </tr>\n",
       "    <tr>\n",
       "      <th>10</th>\n",
       "      <td>Fenway</td>\n",
       "      <td>113</td>\n",
       "    </tr>\n",
       "    <tr>\n",
       "      <th>3</th>\n",
       "      <td>Beacon Hill</td>\n",
       "      <td>101</td>\n",
       "    </tr>\n",
       "  </tbody>\n",
       "</table>\n",
       "</div>"
      ],
      "text/plain": [
       "   neighbourhood_cleansed  Number_Of_Listings\n",
       "21              South End                 165\n",
       "1                Back Bay                 157\n",
       "12          Jamaica Plain                 125\n",
       "10                 Fenway                 113\n",
       "3             Beacon Hill                 101"
      ]
     },
     "execution_count": 6,
     "metadata": {},
     "output_type": "execute_result"
    }
   ],
   "source": [
    "# grouping neighbourhood by number of listings\n",
    "\n",
    "neighbourhood_DF=home.groupby('neighbourhood_cleansed').id.count()\n",
    "neighbourhood_DF=neighbourhood_DF.reset_index()\n",
    "neighbourhood_DF=neighbourhood_DF.rename(columns={'id':'Number_Of_Listings'})\n",
    "neighbourhood_DF=neighbourhood_DF.sort_values('Number_Of_Listings',ascending=[0])\n",
    "neighbourhood_DF.head()"
   ]
  },
  {
   "cell_type": "code",
   "execution_count": 7,
   "metadata": {},
   "outputs": [
    {
     "data": {
      "text/html": [
       "<div>\n",
       "<style scoped>\n",
       "    .dataframe tbody tr th:only-of-type {\n",
       "        vertical-align: middle;\n",
       "    }\n",
       "\n",
       "    .dataframe tbody tr th {\n",
       "        vertical-align: top;\n",
       "    }\n",
       "\n",
       "    .dataframe thead th {\n",
       "        text-align: right;\n",
       "    }\n",
       "</style>\n",
       "<table border=\"1\" class=\"dataframe\">\n",
       "  <thead>\n",
       "    <tr style=\"text-align: right;\">\n",
       "      <th></th>\n",
       "      <th>neighbourhood_cleansed</th>\n",
       "      <th>Average_Price</th>\n",
       "    </tr>\n",
       "  </thead>\n",
       "  <tbody>\n",
       "    <tr>\n",
       "      <th>20</th>\n",
       "      <td>South Boston Waterfront</td>\n",
       "      <td>300.261905</td>\n",
       "    </tr>\n",
       "    <tr>\n",
       "      <th>2</th>\n",
       "      <td>Bay Village</td>\n",
       "      <td>300.083333</td>\n",
       "    </tr>\n",
       "    <tr>\n",
       "      <th>13</th>\n",
       "      <td>Leather District</td>\n",
       "      <td>284.500000</td>\n",
       "    </tr>\n",
       "    <tr>\n",
       "      <th>1</th>\n",
       "      <td>Back Bay</td>\n",
       "      <td>280.006369</td>\n",
       "    </tr>\n",
       "    <tr>\n",
       "      <th>6</th>\n",
       "      <td>Chinatown</td>\n",
       "      <td>275.193548</td>\n",
       "    </tr>\n",
       "  </tbody>\n",
       "</table>\n",
       "</div>"
      ],
      "text/plain": [
       "     neighbourhood_cleansed  Average_Price\n",
       "20  South Boston Waterfront     300.261905\n",
       "2               Bay Village     300.083333\n",
       "13         Leather District     284.500000\n",
       "1                  Back Bay     280.006369\n",
       "6                 Chinatown     275.193548"
      ]
     },
     "execution_count": 7,
     "metadata": {},
     "output_type": "execute_result"
    }
   ],
   "source": [
    "# grouping neighbourhood by average price of listings\n",
    "\n",
    "neighbourhoodPrice_DF=home.groupby('neighbourhood_cleansed').price.mean()\n",
    "neighbourhoodPrice_DF=neighbourhoodPrice_DF.reset_index()\n",
    "neighbourhoodPrice_DF=neighbourhoodPrice_DF.rename(columns={'price':'Average_Price'})\n",
    "neighbourhoodPrice_DF=neighbourhoodPrice_DF.sort_values('Average_Price',ascending=[0])\n",
    "neighbourhoodPrice_DF.head()"
   ]
  },
  {
   "cell_type": "code",
   "execution_count": 8,
   "metadata": {},
   "outputs": [
    {
     "data": {
      "text/html": [
       "<div>\n",
       "<style scoped>\n",
       "    .dataframe tbody tr th:only-of-type {\n",
       "        vertical-align: middle;\n",
       "    }\n",
       "\n",
       "    .dataframe tbody tr th {\n",
       "        vertical-align: top;\n",
       "    }\n",
       "\n",
       "    .dataframe thead th {\n",
       "        text-align: right;\n",
       "    }\n",
       "</style>\n",
       "<table border=\"1\" class=\"dataframe\">\n",
       "  <thead>\n",
       "    <tr style=\"text-align: right;\">\n",
       "      <th></th>\n",
       "      <th>neighbourhood_cleansed</th>\n",
       "      <th>Number_Of_Listings</th>\n",
       "      <th>Average_Price</th>\n",
       "    </tr>\n",
       "  </thead>\n",
       "  <tbody>\n",
       "    <tr>\n",
       "      <th>0</th>\n",
       "      <td>South End</td>\n",
       "      <td>165</td>\n",
       "      <td>245.290909</td>\n",
       "    </tr>\n",
       "    <tr>\n",
       "      <th>1</th>\n",
       "      <td>Back Bay</td>\n",
       "      <td>157</td>\n",
       "      <td>280.006369</td>\n",
       "    </tr>\n",
       "    <tr>\n",
       "      <th>2</th>\n",
       "      <td>Jamaica Plain</td>\n",
       "      <td>125</td>\n",
       "      <td>211.160000</td>\n",
       "    </tr>\n",
       "    <tr>\n",
       "      <th>3</th>\n",
       "      <td>Fenway</td>\n",
       "      <td>113</td>\n",
       "      <td>240.398230</td>\n",
       "    </tr>\n",
       "    <tr>\n",
       "      <th>4</th>\n",
       "      <td>Beacon Hill</td>\n",
       "      <td>101</td>\n",
       "      <td>255.178218</td>\n",
       "    </tr>\n",
       "  </tbody>\n",
       "</table>\n",
       "</div>"
      ],
      "text/plain": [
       "  neighbourhood_cleansed  Number_Of_Listings  Average_Price\n",
       "0              South End                 165     245.290909\n",
       "1               Back Bay                 157     280.006369\n",
       "2          Jamaica Plain                 125     211.160000\n",
       "3                 Fenway                 113     240.398230\n",
       "4            Beacon Hill                 101     255.178218"
      ]
     },
     "execution_count": 8,
     "metadata": {},
     "output_type": "execute_result"
    }
   ],
   "source": [
    "#Merging above two dataframes\n",
    "\n",
    "mergeDF=pd.merge(neighbourhood_DF,neighbourhoodPrice_DF,on='neighbourhood_cleansed')\n",
    "mergeDF.head()\n"
   ]
  },
  {
   "cell_type": "code",
   "execution_count": 9,
   "metadata": {},
   "outputs": [
    {
     "data": {
      "text/plain": [
       "Text(0, 0.5, 'Number Of Listings')"
      ]
     },
     "execution_count": 9,
     "metadata": {},
     "output_type": "execute_result"
    },
    {
     "data": {
      "image/png": "[encoded data removed]",
      "text/plain": [
       "<Figure size 1080x576 with 1 Axes>"
      ]
     },
     "metadata": {},
     "output_type": "display_data"
    }
   ],
   "source": [
    "# visualizing the frequency of listings on the basis of neighbourhood where room type is entire apartment\n",
    "\n",
    "%matplotlib inline\n",
    "\n",
    "import matplotlib\n",
    "import matplotlib.pyplot as plt\n",
    "matplotlib.style.use('ggplot')\n",
    "\n",
    "objects = neighbourhood_DF['neighbourhood_cleansed']\n",
    "y_pos = neighbourhood_DF['Number_Of_Listings']\n",
    "\n",
    "neighbourhood_DF.plot(kind='bar', \n",
    "           x='neighbourhood_cleansed',\n",
    "           y='Number_Of_Listings',\n",
    "           color = '#66c2ff', \n",
    "           figsize =(15,8), \n",
    "           title = 'Boston Neighborhood Frequency', \n",
    "           legend = False)\n",
    "\n",
    "plt.ylabel('Number Of Listings')"
   ]
  },
  {
   "cell_type": "markdown",
   "metadata": {},
   "source": [
    "#得出结论：在Boston民宿数量最多的是South End ，back bay 和Jamaica plain."
   ]
  },
  {
   "cell_type": "code",
   "execution_count": 10,
   "metadata": {},
   "outputs": [
    {
     "data": {
      "text/plain": [
       "Text(0, 0.5, 'Average Price')"
      ]
     },
     "execution_count": 10,
     "metadata": {},
     "output_type": "execute_result"
    },
    {
     "data": {
      "image/png": "[encoded data removed]",
      "text/plain": [
       "<Figure size 1080x576 with 1 Axes>"
      ]
     },
     "metadata": {},
     "output_type": "display_data"
    }
   ],
   "source": [
    "# Now lets visualize average price of these listings on the basis of neighbourhood where room type is entire apartment\n",
    "\n",
    "%matplotlib inline\n",
    "\n",
    "import matplotlib\n",
    "import matplotlib.pyplot as plt\n",
    "matplotlib.style.use('ggplot')\n",
    "\n",
    "objects = neighbourhoodPrice_DF['neighbourhood_cleansed']\n",
    "y_pos = neighbourhoodPrice_DF['Average_Price']\n",
    "\n",
    "neighbourhoodPrice_DF.plot(kind='bar', \n",
    "           x='neighbourhood_cleansed',\n",
    "           y='Average_Price',\n",
    "           color = '#66c2ff', \n",
    "           figsize =(15,8), \n",
    "           title = 'Boston Neighborhood Average price', \n",
    "           legend = False)\n",
    "\n",
    "plt.ylabel('Average Price')"
   ]
  },
  {
   "cell_type": "markdown",
   "metadata": {},
   "source": [
    "#得出结论：'Back Bay' 和 'South Boston'可以被认为是民宿数量最多的地区，并且平均价格也是最高的。"
   ]
  },
  {
   "cell_type": "code",
   "execution_count": 22,
   "metadata": {},
   "outputs": [],
   "source": [
    "# Let's look at the differences between the words used in listings for Airbnb locations in different Boston neighborhoods\n",
    "\n",
    "import re\n",
    "import nltk\n",
    "from nltk.corpus import stopwords\n",
    "from collections import Counter\n",
    "\n",
    "uniqueNeighborhoods = inputDF.neighbourhood_cleansed.unique().tolist()\n",
    "\n",
    "#function to clean the data and compile a list of most common words\n",
    "def cleanData(neighbrhood_name,descrip):\n",
    "    p = re.sub('[^a-zA-Z]+',' ', descrip)\n",
    "    cmn_words=['The','I','Boston','room']\n",
    "    descrip_data=nltk.word_tokenize(p)\n",
    "    filtered_data=[word.lower() for word in descrip_data if word not in cmn_words if word not in stopwords.words('english')] \n",
    "    wnl = nltk.WordNetLemmatizer() \n",
    "    counts=Counter([wnl.lemmatize(data) for data in filtered_data])\n",
    "    commn_words=[]\n",
    "    for w in counts.most_common(5):\n",
    "        commn_words.append(w[0])\n",
    "    return ' '.join(commn_words)\n",
    "\n",
    "summ={}\n",
    "for n in uniqueNeighborhoods:\n",
    "    text=''\n",
    "    for index,row in inputDF.iterrows():\n",
    "        if row['neighbourhood_cleansed']==n:\n",
    "            if ((row['description']!=0) & (row['space']!=0) & (row['neighborhood_overview']!=0)):\n",
    "                text =text+row['description']+row['space']+row['neighborhood_overview']\n",
    "    summ[n]=text\n",
    "\n",
    "final_DF_neighbrhood=pd.DataFrame(columns=['neighborhood','top 5 words in description'])\n",
    "for a in summ.items():\n",
    "    top5words=cleanData(a[0],a[1])\n",
    "    final_DF_neighbrhood=final_DF_neighbrhood.append(pd.Series([a[0],top5words],index=['neighborhood','top 5 words in description']),ignore_index=True)\n",
    "\n",
    "final_DF_neighbrhood.to_csv('top_words_description.csv')"
   ]
  },
  {
   "cell_type": "code",
   "execution_count": 15,
   "metadata": {},
   "outputs": [
    {
     "data": {
      "text/html": [
       "<div>\n",
       "<style scoped>\n",
       "    .dataframe tbody tr th:only-of-type {\n",
       "        vertical-align: middle;\n",
       "    }\n",
       "\n",
       "    .dataframe tbody tr th {\n",
       "        vertical-align: top;\n",
       "    }\n",
       "\n",
       "    .dataframe thead th {\n",
       "        text-align: right;\n",
       "    }\n",
       "</style>\n",
       "<table border=\"1\" class=\"dataframe\">\n",
       "  <thead>\n",
       "    <tr style=\"text-align: right;\">\n",
       "      <th></th>\n",
       "      <th>neighborhood</th>\n",
       "      <th>top 5 words in description</th>\n",
       "    </tr>\n",
       "  </thead>\n",
       "  <tbody>\n",
       "    <tr>\n",
       "      <th>0</th>\n",
       "      <td>Roslindale</td>\n",
       "      <td>roslindale minute guest house neighborhood</td>\n",
       "    </tr>\n",
       "    <tr>\n",
       "      <th>1</th>\n",
       "      <td>Jamaica Plain</td>\n",
       "      <td>jamaica walk minute neighborhood bedroom</td>\n",
       "    </tr>\n",
       "    <tr>\n",
       "      <th>2</th>\n",
       "      <td>Mission Hill</td>\n",
       "      <td>apartment bed bedroom walk medical</td>\n",
       "    </tr>\n",
       "    <tr>\n",
       "      <th>3</th>\n",
       "      <td>Longwood Medical Area</td>\n",
       "      <td>longwood bathroom access kitchen medical</td>\n",
       "    </tr>\n",
       "    <tr>\n",
       "      <th>4</th>\n",
       "      <td>Bay Village</td>\n",
       "      <td>walk bay bed arlington bedroom</td>\n",
       "    </tr>\n",
       "  </tbody>\n",
       "</table>\n",
       "</div>"
      ],
      "text/plain": [
       "            neighborhood                  top 5 words in description\n",
       "0             Roslindale  roslindale minute guest house neighborhood\n",
       "1          Jamaica Plain    jamaica walk minute neighborhood bedroom\n",
       "2           Mission Hill          apartment bed bedroom walk medical\n",
       "3  Longwood Medical Area    longwood bathroom access kitchen medical\n",
       "4            Bay Village              walk bay bed arlington bedroom"
      ]
     },
     "execution_count": 15,
     "metadata": {},
     "output_type": "execute_result"
    }
   ],
   "source": [
    "final_DF_neighbrhood.head()"
   ]
  }
 ],
 "metadata": {
  "kernelspec": {
   "display_name": "Python 3",
   "language": "python",
   "name": "python3"
  },
  "language_info": {
   "codemirror_mode": {
    "name": "ipython",
    "version": 3
   },
   "file_extension": ".py",
   "mimetype": "text/x-python",
   "name": "python",
   "nbconvert_exporter": "python",
   "pygments_lexer": "ipython3",
   "version": "3.7.4"
  }
 },
 "nbformat": 4,
 "nbformat_minor": 2
}
