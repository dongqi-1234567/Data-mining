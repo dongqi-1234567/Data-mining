{
 "cells": [
  {
   "cell_type": "markdown",
   "metadata": {},
   "source": [
    "# Analysis - 3\n",
    "\n",
    "# Seasonal Pattern of Prices"
   ]
  },
  {
   "cell_type": "code",
   "execution_count": 1,
   "metadata": {},
   "outputs": [
    {
     "data": {
      "text/html": [
       "<div>\n",
       "<style scoped>\n",
       "    .dataframe tbody tr th:only-of-type {\n",
       "        vertical-align: middle;\n",
       "    }\n",
       "\n",
       "    .dataframe tbody tr th {\n",
       "        vertical-align: top;\n",
       "    }\n",
       "\n",
       "    .dataframe thead th {\n",
       "        text-align: right;\n",
       "    }\n",
       "</style>\n",
       "<table border=\"1\" class=\"dataframe\">\n",
       "  <thead>\n",
       "    <tr style=\"text-align: right;\">\n",
       "      <th></th>\n",
       "      <th>listing_id</th>\n",
       "      <th>date</th>\n",
       "      <th>available</th>\n",
       "      <th>price</th>\n",
       "      <th>Year</th>\n",
       "      <th>Month</th>\n",
       "      <th>Day</th>\n",
       "    </tr>\n",
       "  </thead>\n",
       "  <tbody>\n",
       "    <tr>\n",
       "      <th>365</th>\n",
       "      <td>3075044</td>\n",
       "      <td>2017-08-22</td>\n",
       "      <td>t</td>\n",
       "      <td>65.0</td>\n",
       "      <td>2017</td>\n",
       "      <td>08</td>\n",
       "      <td>22</td>\n",
       "    </tr>\n",
       "    <tr>\n",
       "      <th>366</th>\n",
       "      <td>3075044</td>\n",
       "      <td>2017-08-21</td>\n",
       "      <td>t</td>\n",
       "      <td>65.0</td>\n",
       "      <td>2017</td>\n",
       "      <td>08</td>\n",
       "      <td>21</td>\n",
       "    </tr>\n",
       "    <tr>\n",
       "      <th>367</th>\n",
       "      <td>3075044</td>\n",
       "      <td>2017-08-20</td>\n",
       "      <td>t</td>\n",
       "      <td>65.0</td>\n",
       "      <td>2017</td>\n",
       "      <td>08</td>\n",
       "      <td>20</td>\n",
       "    </tr>\n",
       "    <tr>\n",
       "      <th>368</th>\n",
       "      <td>3075044</td>\n",
       "      <td>2017-08-19</td>\n",
       "      <td>t</td>\n",
       "      <td>75.0</td>\n",
       "      <td>2017</td>\n",
       "      <td>08</td>\n",
       "      <td>19</td>\n",
       "    </tr>\n",
       "    <tr>\n",
       "      <th>369</th>\n",
       "      <td>3075044</td>\n",
       "      <td>2017-08-18</td>\n",
       "      <td>t</td>\n",
       "      <td>75.0</td>\n",
       "      <td>2017</td>\n",
       "      <td>08</td>\n",
       "      <td>18</td>\n",
       "    </tr>\n",
       "  </tbody>\n",
       "</table>\n",
       "</div>"
      ],
      "text/plain": [
       "     listing_id        date available  price  Year Month Day\n",
       "365     3075044  2017-08-22         t   65.0  2017    08  22\n",
       "366     3075044  2017-08-21         t   65.0  2017    08  21\n",
       "367     3075044  2017-08-20         t   65.0  2017    08  20\n",
       "368     3075044  2017-08-19         t   75.0  2017    08  19\n",
       "369     3075044  2017-08-18         t   75.0  2017    08  18"
      ]
     },
     "execution_count": 1,
     "metadata": {},
     "output_type": "execute_result"
    }
   ],
   "source": [
    "#Cleaning the data\n",
    "\n",
    "import pandas as pd\n",
    "import numpy as np\n",
    "import re\n",
    "\n",
    "calendarDF=pd.read_csv(\"calendar.csv\")\n",
    "\n",
    "#replacing NaN values with 0\n",
    "calendarDF.fillna(0, inplace=True)\n",
    "calendarDF = calendarDF[calendarDF.price != 0]\n",
    "\n",
    "#Extracting prices from the table\n",
    "price = calendarDF['price']\n",
    "prices=[]\n",
    "\n",
    "for p in price:\n",
    "    p = re.sub('[^0-9.]+','', p)\n",
    "    prices.append(float(p))\n",
    "    \n",
    "#replace the price column with the new column\n",
    "calendarDF['price']=prices\n",
    "\n",
    "calendarDF = calendarDF[calendarDF.price >= 0]\n",
    "\n",
    "#separating date column into day month and year\n",
    "calendarDF['Year'],calendarDF['Month'],calendarDF['Day']=calendarDF['date'].str.split('-',2).str\n",
    "calendarDF.head()\n"
   ]
  },
  {
   "cell_type": "markdown",
   "metadata": {},
   "source": [
    "#基于年份和月份对价格的趋势进行分析"
   ]
  },
  {
   "cell_type": "code",
   "execution_count": 2,
   "metadata": {},
   "outputs": [
    {
     "data": {
      "text/html": [
       "<div>\n",
       "<style scoped>\n",
       "    .dataframe tbody tr th:only-of-type {\n",
       "        vertical-align: middle;\n",
       "    }\n",
       "\n",
       "    .dataframe tbody tr th {\n",
       "        vertical-align: top;\n",
       "    }\n",
       "\n",
       "    .dataframe thead th {\n",
       "        text-align: right;\n",
       "    }\n",
       "</style>\n",
       "<table border=\"1\" class=\"dataframe\">\n",
       "  <thead>\n",
       "    <tr style=\"text-align: right;\">\n",
       "      <th></th>\n",
       "      <th>Year</th>\n",
       "      <th>Month</th>\n",
       "      <th>average_Price</th>\n",
       "      <th>year-Month</th>\n",
       "    </tr>\n",
       "  </thead>\n",
       "  <tbody>\n",
       "    <tr>\n",
       "      <th>0</th>\n",
       "      <td>2016</td>\n",
       "      <td>09</td>\n",
       "      <td>252.677308</td>\n",
       "      <td>2016-09</td>\n",
       "    </tr>\n",
       "    <tr>\n",
       "      <th>1</th>\n",
       "      <td>2016</td>\n",
       "      <td>10</td>\n",
       "      <td>233.416248</td>\n",
       "      <td>2016-10</td>\n",
       "    </tr>\n",
       "    <tr>\n",
       "      <th>2</th>\n",
       "      <td>2016</td>\n",
       "      <td>11</td>\n",
       "      <td>202.924416</td>\n",
       "      <td>2016-11</td>\n",
       "    </tr>\n",
       "    <tr>\n",
       "      <th>3</th>\n",
       "      <td>2016</td>\n",
       "      <td>12</td>\n",
       "      <td>192.601915</td>\n",
       "      <td>2016-12</td>\n",
       "    </tr>\n",
       "    <tr>\n",
       "      <th>4</th>\n",
       "      <td>2017</td>\n",
       "      <td>01</td>\n",
       "      <td>182.799671</td>\n",
       "      <td>2017-01</td>\n",
       "    </tr>\n",
       "  </tbody>\n",
       "</table>\n",
       "</div>"
      ],
      "text/plain": [
       "   Year Month  average_Price year-Month\n",
       "0  2016    09     252.677308    2016-09\n",
       "1  2016    10     233.416248    2016-10\n",
       "2  2016    11     202.924416    2016-11\n",
       "3  2016    12     192.601915    2016-12\n",
       "4  2017    01     182.799671    2017-01"
      ]
     },
     "execution_count": 2,
     "metadata": {},
     "output_type": "execute_result"
    }
   ],
   "source": [
    "yearDF=calendarDF.groupby(['Year','Month']).price.mean()\n",
    "yearDF=yearDF.reset_index()\n",
    "yearDF=yearDF.rename(columns={'price':'average_Price'})\n",
    "yearDF['year-Month']=yearDF['Year'].map(str) + \"-\" + yearDF['Month'].map(str)\n",
    "yearDF.to_csv('year_month_data.csv')\n",
    "yearDF.head()"
   ]
  },
  {
   "cell_type": "markdown",
   "metadata": {},
   "source": [
    "#使用图表对结果进行可视化"
   ]
  },
  {
   "cell_type": "code",
   "execution_count": 3,
   "metadata": {},
   "outputs": [
    {
     "data": {
      "text/plain": [
       "Text(0, 0.5, 'Average Price')"
      ]
     },
     "execution_count": 3,
     "metadata": {},
     "output_type": "execute_result"
    },
    {
     "data": {
      "image/png": "[encoded data removed]",
      "text/plain": [
       "<Figure size 1080x576 with 1 Axes>"
      ]
     },
     "metadata": {},
     "output_type": "display_data"
    }
   ],
   "source": [
    "# visualizing the trend of year/Month and average prices of the listing\n",
    "\n",
    "%matplotlib inline\n",
    "\n",
    "import matplotlib\n",
    "import matplotlib.pyplot as plt\n",
    "matplotlib.style.use('ggplot')\n",
    "\n",
    "objects = yearDF['year-Month']\n",
    "y_pos = yearDF['average_Price']\n",
    "\n",
    "yearDF.plot(kind='bar', \n",
    "           x='year-Month',\n",
    "           y='average_Price',\n",
    "           color = '#66c2ff', \n",
    "           figsize =(15,8), \n",
    "           title = 'Boston Airbnb prices trend over months', \n",
    "           legend = False)\n",
    "plt.ylabel('Average Price')\n"
   ]
  },
  {
   "cell_type": "markdown",
   "metadata": {},
   "source": [
    "#得出结论：2016年的9月和10月，民宿的平均价格最高。为了进一步分析价格的季节性变动特点，将节假日因素考虑在其中。"
   ]
  },
  {
   "cell_type": "code",
   "execution_count": 10,
   "metadata": {},
   "outputs": [
    {
     "name": "stderr",
     "output_type": "stream",
     "text": [
      "d:\\python\\python install\\lib\\site-packages\\ipykernel_launcher.py:17: FutureWarning: set_value is deprecated and will be removed in a future release. Please use .at[] or .iat[] accessors instead\n",
      "d:\\python\\python install\\lib\\site-packages\\ipykernel_launcher.py:18: FutureWarning: set_value is deprecated and will be removed in a future release. Please use .at[] or .iat[] accessors instead\n",
      "d:\\python\\python install\\lib\\site-packages\\ipykernel_launcher.py:19: FutureWarning: set_value is deprecated and will be removed in a future release. Please use .at[] or .iat[] accessors instead\n"
     ]
    },
    {
     "data": {
      "text/html": [
       "<div>\n",
       "<style scoped>\n",
       "    .dataframe tbody tr th:only-of-type {\n",
       "        vertical-align: middle;\n",
       "    }\n",
       "\n",
       "    .dataframe tbody tr th {\n",
       "        vertical-align: top;\n",
       "    }\n",
       "\n",
       "    .dataframe thead th {\n",
       "        text-align: right;\n",
       "    }\n",
       "</style>\n",
       "<table border=\"1\" class=\"dataframe\">\n",
       "  <thead>\n",
       "    <tr style=\"text-align: right;\">\n",
       "      <th></th>\n",
       "      <th>listing_id</th>\n",
       "      <th>date</th>\n",
       "      <th>available</th>\n",
       "      <th>price</th>\n",
       "      <th>Year</th>\n",
       "      <th>Month</th>\n",
       "      <th>Day</th>\n",
       "      <th>day_Name</th>\n",
       "      <th>holiday</th>\n",
       "      <th>us_holidays_name</th>\n",
       "    </tr>\n",
       "  </thead>\n",
       "  <tbody>\n",
       "    <tr>\n",
       "      <th>365</th>\n",
       "      <td>3075044</td>\n",
       "      <td>2017-08-22</td>\n",
       "      <td>t</td>\n",
       "      <td>65.0</td>\n",
       "      <td>2017</td>\n",
       "      <td>08</td>\n",
       "      <td>22</td>\n",
       "      <td>Tuesday</td>\n",
       "      <td>False</td>\n",
       "      <td>None</td>\n",
       "    </tr>\n",
       "    <tr>\n",
       "      <th>366</th>\n",
       "      <td>3075044</td>\n",
       "      <td>2017-08-21</td>\n",
       "      <td>t</td>\n",
       "      <td>65.0</td>\n",
       "      <td>2017</td>\n",
       "      <td>08</td>\n",
       "      <td>21</td>\n",
       "      <td>Monday</td>\n",
       "      <td>False</td>\n",
       "      <td>None</td>\n",
       "    </tr>\n",
       "    <tr>\n",
       "      <th>367</th>\n",
       "      <td>3075044</td>\n",
       "      <td>2017-08-20</td>\n",
       "      <td>t</td>\n",
       "      <td>65.0</td>\n",
       "      <td>2017</td>\n",
       "      <td>08</td>\n",
       "      <td>20</td>\n",
       "      <td>Sunday</td>\n",
       "      <td>False</td>\n",
       "      <td>None</td>\n",
       "    </tr>\n",
       "    <tr>\n",
       "      <th>368</th>\n",
       "      <td>3075044</td>\n",
       "      <td>2017-08-19</td>\n",
       "      <td>t</td>\n",
       "      <td>75.0</td>\n",
       "      <td>2017</td>\n",
       "      <td>08</td>\n",
       "      <td>19</td>\n",
       "      <td>Saturday</td>\n",
       "      <td>False</td>\n",
       "      <td>None</td>\n",
       "    </tr>\n",
       "    <tr>\n",
       "      <th>369</th>\n",
       "      <td>3075044</td>\n",
       "      <td>2017-08-18</td>\n",
       "      <td>t</td>\n",
       "      <td>75.0</td>\n",
       "      <td>2017</td>\n",
       "      <td>08</td>\n",
       "      <td>18</td>\n",
       "      <td>Friday</td>\n",
       "      <td>False</td>\n",
       "      <td>None</td>\n",
       "    </tr>\n",
       "  </tbody>\n",
       "</table>\n",
       "</div>"
      ],
      "text/plain": [
       "     listing_id        date available  price  Year Month Day  day_Name  \\\n",
       "365     3075044  2017-08-22         t   65.0  2017    08  22   Tuesday   \n",
       "366     3075044  2017-08-21         t   65.0  2017    08  21    Monday   \n",
       "367     3075044  2017-08-20         t   65.0  2017    08  20    Sunday   \n",
       "368     3075044  2017-08-19         t   75.0  2017    08  19  Saturday   \n",
       "369     3075044  2017-08-18         t   75.0  2017    08  18    Friday   \n",
       "\n",
       "    holiday us_holidays_name  \n",
       "365   False             None  \n",
       "366   False             None  \n",
       "367   False             None  \n",
       "368   False             None  \n",
       "369   False             None  "
      ]
     },
     "execution_count": 10,
     "metadata": {},
     "output_type": "execute_result"
    }
   ],
   "source": [
    "#getting day name from date data and holidays\n",
    "\n",
    "from datetime import date\n",
    "import datetime\n",
    "import calendar\n",
    "import holidays\n",
    "\n",
    "calendarDF.fillna(0, inplace=True)\n",
    "us_holidays = holidays.US()\n",
    "\n",
    "calendarDF['day_Name']='default'\n",
    "calendarDF['holiday']='False'\n",
    "calendarDF['us_holidays_name']='working'\n",
    "for index,row in calendarDF.iterrows():\n",
    "    sdate = datetime.date(int(row['Year']),int(row['Month']),int(row['Day']))\n",
    "    vall=date(int(row['Year']),int(row['Month']),int(row['Day'])) in us_holidays\n",
    "    calendarDF.set_value(index,'day_Name',calendar.day_name[sdate.weekday()])\n",
    "    calendarDF.set_value(index,'holiday',vall)\n",
    "    calendarDF.set_value(index,'us_holidays_name',us_holidays.get(sdate))\n",
    "#calendarDF.to_csv('holidays_data.csv')\n",
    "calendarDF.head()\n"
   ]
  },
  {
   "cell_type": "markdown",
   "metadata": {},
   "source": [
    "#新增了三个列：Day_Name, Holiday和us_holiday_name "
   ]
  },
  {
   "cell_type": "code",
   "execution_count": 11,
   "metadata": {},
   "outputs": [
    {
     "name": "stderr",
     "output_type": "stream",
     "text": [
      "d:\\python\\python install\\lib\\site-packages\\ipykernel_launcher.py:17: FutureWarning: set_value is deprecated and will be removed in a future release. Please use .at[] or .iat[] accessors instead\n",
      "d:\\python\\python install\\lib\\site-packages\\ipykernel_launcher.py:9: FutureWarning: set_value is deprecated and will be removed in a future release. Please use .at[] or .iat[] accessors instead\n",
      "  if __name__ == '__main__':\n",
      "d:\\python\\python install\\lib\\site-packages\\ipykernel_launcher.py:19: FutureWarning: set_value is deprecated and will be removed in a future release. Please use .at[] or .iat[] accessors instead\n",
      "d:\\python\\python install\\lib\\site-packages\\ipykernel_launcher.py:21: FutureWarning: set_value is deprecated and will be removed in a future release. Please use .at[] or .iat[] accessors instead\n",
      "d:\\python\\python install\\lib\\site-packages\\ipykernel_launcher.py:15: FutureWarning: set_value is deprecated and will be removed in a future release. Please use .at[] or .iat[] accessors instead\n",
      "  from ipykernel import kernelapp as app\n",
      "d:\\python\\python install\\lib\\site-packages\\ipykernel_launcher.py:11: FutureWarning: set_value is deprecated and will be removed in a future release. Please use .at[] or .iat[] accessors instead\n",
      "  # This is added back by InteractiveShellApp.init_path()\n",
      "d:\\python\\python install\\lib\\site-packages\\ipykernel_launcher.py:13: FutureWarning: set_value is deprecated and will be removed in a future release. Please use .at[] or .iat[] accessors instead\n",
      "  del sys.path[0]\n"
     ]
    },
    {
     "data": {
      "text/html": [
       "<div>\n",
       "<style scoped>\n",
       "    .dataframe tbody tr th:only-of-type {\n",
       "        vertical-align: middle;\n",
       "    }\n",
       "\n",
       "    .dataframe tbody tr th {\n",
       "        vertical-align: top;\n",
       "    }\n",
       "\n",
       "    .dataframe thead th {\n",
       "        text-align: right;\n",
       "    }\n",
       "</style>\n",
       "<table border=\"1\" class=\"dataframe\">\n",
       "  <thead>\n",
       "    <tr style=\"text-align: right;\">\n",
       "      <th></th>\n",
       "      <th>day_Name</th>\n",
       "      <th>Average_Price</th>\n",
       "      <th>day_num</th>\n",
       "    </tr>\n",
       "  </thead>\n",
       "  <tbody>\n",
       "    <tr>\n",
       "      <th>1</th>\n",
       "      <td>Monday</td>\n",
       "      <td>195.809561</td>\n",
       "      <td>1</td>\n",
       "    </tr>\n",
       "    <tr>\n",
       "      <th>5</th>\n",
       "      <td>Tuesday</td>\n",
       "      <td>195.173842</td>\n",
       "      <td>2</td>\n",
       "    </tr>\n",
       "    <tr>\n",
       "      <th>6</th>\n",
       "      <td>Wednesday</td>\n",
       "      <td>195.418228</td>\n",
       "      <td>3</td>\n",
       "    </tr>\n",
       "    <tr>\n",
       "      <th>4</th>\n",
       "      <td>Thursday</td>\n",
       "      <td>198.073112</td>\n",
       "      <td>4</td>\n",
       "    </tr>\n",
       "    <tr>\n",
       "      <th>0</th>\n",
       "      <td>Friday</td>\n",
       "      <td>203.121167</td>\n",
       "      <td>5</td>\n",
       "    </tr>\n",
       "    <tr>\n",
       "      <th>2</th>\n",
       "      <td>Saturday</td>\n",
       "      <td>203.408387</td>\n",
       "      <td>6</td>\n",
       "    </tr>\n",
       "    <tr>\n",
       "      <th>3</th>\n",
       "      <td>Sunday</td>\n",
       "      <td>198.219764</td>\n",
       "      <td>7</td>\n",
       "    </tr>\n",
       "  </tbody>\n",
       "</table>\n",
       "</div>"
      ],
      "text/plain": [
       "    day_Name  Average_Price  day_num\n",
       "1     Monday     195.809561        1\n",
       "5    Tuesday     195.173842        2\n",
       "6  Wednesday     195.418228        3\n",
       "4   Thursday     198.073112        4\n",
       "0     Friday     203.121167        5\n",
       "2   Saturday     203.408387        6\n",
       "3     Sunday     198.219764        7"
      ]
     },
     "execution_count": 11,
     "metadata": {},
     "output_type": "execute_result"
    }
   ],
   "source": [
    "#calculating Average price for each day\n",
    "\n",
    "dayDF=calendarDF.groupby('day_Name').price.mean()\n",
    "dayDF=dayDF.reset_index()\n",
    "dayDF['day_num']=0\n",
    "\n",
    "for index,row in dayDF.iterrows():\n",
    "    if row['day_Name']=='Monday':\n",
    "        dayDF.set_value(index,'day_num',1)\n",
    "    if row['day_Name']=='Tuesday':\n",
    "        dayDF.set_value(index,'day_num',2)\n",
    "    if row['day_Name']=='Wednesday':\n",
    "        dayDF.set_value(index,'day_num',3)\n",
    "    if row['day_Name']=='Thursday':\n",
    "        dayDF.set_value(index,'day_num',4)\n",
    "    if row['day_Name']=='Friday':\n",
    "        dayDF.set_value(index,'day_num',5)\n",
    "    if row['day_Name']=='Saturday':\n",
    "        dayDF.set_value(index,'day_num',6)\n",
    "    if row['day_Name']=='Sunday':\n",
    "        dayDF.set_value(index,'day_num',7)\n",
    "dayDF=dayDF.sort_values('day_num',ascending=[1])\n",
    "dayDF=dayDF.rename(columns={'price':'Average_Price'})\n",
    "dayDF"
   ]
  },
  {
   "cell_type": "code",
   "execution_count": 12,
   "metadata": {},
   "outputs": [
    {
     "data": {
      "text/html": [
       "<div>\n",
       "<style scoped>\n",
       "    .dataframe tbody tr th:only-of-type {\n",
       "        vertical-align: middle;\n",
       "    }\n",
       "\n",
       "    .dataframe tbody tr th {\n",
       "        vertical-align: top;\n",
       "    }\n",
       "\n",
       "    .dataframe thead th {\n",
       "        text-align: right;\n",
       "    }\n",
       "</style>\n",
       "<table border=\"1\" class=\"dataframe\">\n",
       "  <thead>\n",
       "    <tr style=\"text-align: right;\">\n",
       "      <th></th>\n",
       "      <th>us_holidays_name</th>\n",
       "      <th>listing_id</th>\n",
       "    </tr>\n",
       "  </thead>\n",
       "  <tbody>\n",
       "    <tr>\n",
       "      <th>9</th>\n",
       "      <td>Thanksgiving</td>\n",
       "      <td>2067</td>\n",
       "    </tr>\n",
       "    <tr>\n",
       "      <th>5</th>\n",
       "      <td>Martin Luther King, Jr. Day</td>\n",
       "      <td>2048</td>\n",
       "    </tr>\n",
       "    <tr>\n",
       "      <th>11</th>\n",
       "      <td>Washington's Birthday</td>\n",
       "      <td>2036</td>\n",
       "    </tr>\n",
       "    <tr>\n",
       "      <th>7</th>\n",
       "      <td>New Year's Day</td>\n",
       "      <td>2027</td>\n",
       "    </tr>\n",
       "    <tr>\n",
       "      <th>8</th>\n",
       "      <td>New Year's Day (Observed)</td>\n",
       "      <td>2027</td>\n",
       "    </tr>\n",
       "    <tr>\n",
       "      <th>0</th>\n",
       "      <td>Christmas Day</td>\n",
       "      <td>1938</td>\n",
       "    </tr>\n",
       "    <tr>\n",
       "      <th>1</th>\n",
       "      <td>Christmas Day (Observed)</td>\n",
       "      <td>1932</td>\n",
       "    </tr>\n",
       "    <tr>\n",
       "      <th>4</th>\n",
       "      <td>Labor Day</td>\n",
       "      <td>1801</td>\n",
       "    </tr>\n",
       "    <tr>\n",
       "      <th>10</th>\n",
       "      <td>Veterans Day</td>\n",
       "      <td>1793</td>\n",
       "    </tr>\n",
       "    <tr>\n",
       "      <th>3</th>\n",
       "      <td>Independence Day</td>\n",
       "      <td>1763</td>\n",
       "    </tr>\n",
       "    <tr>\n",
       "      <th>6</th>\n",
       "      <td>Memorial Day</td>\n",
       "      <td>1749</td>\n",
       "    </tr>\n",
       "    <tr>\n",
       "      <th>2</th>\n",
       "      <td>Columbus Day</td>\n",
       "      <td>1538</td>\n",
       "    </tr>\n",
       "  </tbody>\n",
       "</table>\n",
       "</div>"
      ],
      "text/plain": [
       "               us_holidays_name  listing_id\n",
       "9                  Thanksgiving        2067\n",
       "5   Martin Luther King, Jr. Day        2048\n",
       "11        Washington's Birthday        2036\n",
       "7                New Year's Day        2027\n",
       "8     New Year's Day (Observed)        2027\n",
       "0                 Christmas Day        1938\n",
       "1      Christmas Day (Observed)        1932\n",
       "4                     Labor Day        1801\n",
       "10                 Veterans Day        1793\n",
       "3              Independence Day        1763\n",
       "6                  Memorial Day        1749\n",
       "2                  Columbus Day        1538"
      ]
     },
     "execution_count": 12,
     "metadata": {},
     "output_type": "execute_result"
    }
   ],
   "source": [
    "#checking which holiday has maximum listings\n",
    "\n",
    "holidayDF=calendarDF.groupby('us_holidays_name').listing_id.count()\n",
    "holidayDF=holidayDF.reset_index()\n",
    "holidayDF=holidayDF.sort_values('listing_id',ascending=[0])\n",
    "holidayDF"
   ]
  },
  {
   "cell_type": "code",
   "execution_count": 13,
   "metadata": {},
   "outputs": [
    {
     "data": {
      "text/plain": [
       "[Text(0, 0.5, 'Total Number of Listings'), Text(0.5, 0, 'US Holidays Name')]"
      ]
     },
     "execution_count": 13,
     "metadata": {},
     "output_type": "execute_result"
    },
    {
     "data": {
      "image/png": "[encoded data removed]",
      "text/plain": [
       "<Figure size 1368x576 with 1 Axes>"
      ]
     },
     "metadata": {},
     "output_type": "display_data"
    }
   ],
   "source": [
    "# visualizing the same\n",
    "import seaborn as sns\n",
    "import matplotlib.pyplot as plt\n",
    "\n",
    "plt.figure(figsize=(19,8))\n",
    "ax = sns.barplot(\"us_holidays_name\", y=\"listing_id\", data=holidayDF,palette=\"Blues_d\")\n",
    "ax.set(xlabel='US Holidays Name', ylabel='Total Number of Listings')"
   ]
  },
  {
   "cell_type": "markdown",
   "metadata": {},
   "source": [
    "#得出结论： thanksgiving day 时民宿数量是最多的，接下来分析此时的民宿价格是否是最高的"
   ]
  },
  {
   "cell_type": "code",
   "execution_count": 14,
   "metadata": {},
   "outputs": [
    {
     "data": {
      "text/html": [
       "<div>\n",
       "<style scoped>\n",
       "    .dataframe tbody tr th:only-of-type {\n",
       "        vertical-align: middle;\n",
       "    }\n",
       "\n",
       "    .dataframe tbody tr th {\n",
       "        vertical-align: top;\n",
       "    }\n",
       "\n",
       "    .dataframe thead th {\n",
       "        text-align: right;\n",
       "    }\n",
       "</style>\n",
       "<table border=\"1\" class=\"dataframe\">\n",
       "  <thead>\n",
       "    <tr style=\"text-align: right;\">\n",
       "      <th></th>\n",
       "      <th>us_holidays_name</th>\n",
       "      <th>price</th>\n",
       "    </tr>\n",
       "  </thead>\n",
       "  <tbody>\n",
       "    <tr>\n",
       "      <th>2</th>\n",
       "      <td>Columbus Day</td>\n",
       "      <td>237.838101</td>\n",
       "    </tr>\n",
       "    <tr>\n",
       "      <th>10</th>\n",
       "      <td>Veterans Day</td>\n",
       "      <td>205.283324</td>\n",
       "    </tr>\n",
       "    <tr>\n",
       "      <th>9</th>\n",
       "      <td>Thanksgiving</td>\n",
       "      <td>200.077407</td>\n",
       "    </tr>\n",
       "    <tr>\n",
       "      <th>0</th>\n",
       "      <td>Christmas Day</td>\n",
       "      <td>198.380805</td>\n",
       "    </tr>\n",
       "    <tr>\n",
       "      <th>3</th>\n",
       "      <td>Independence Day</td>\n",
       "      <td>197.900737</td>\n",
       "    </tr>\n",
       "    <tr>\n",
       "      <th>1</th>\n",
       "      <td>Christmas Day (Observed)</td>\n",
       "      <td>196.901139</td>\n",
       "    </tr>\n",
       "    <tr>\n",
       "      <th>7</th>\n",
       "      <td>New Year's Day</td>\n",
       "      <td>191.555994</td>\n",
       "    </tr>\n",
       "    <tr>\n",
       "      <th>6</th>\n",
       "      <td>Memorial Day</td>\n",
       "      <td>190.034305</td>\n",
       "    </tr>\n",
       "    <tr>\n",
       "      <th>4</th>\n",
       "      <td>Labor Day</td>\n",
       "      <td>189.907829</td>\n",
       "    </tr>\n",
       "    <tr>\n",
       "      <th>8</th>\n",
       "      <td>New Year's Day (Observed)</td>\n",
       "      <td>183.823384</td>\n",
       "    </tr>\n",
       "  </tbody>\n",
       "</table>\n",
       "</div>"
      ],
      "text/plain": [
       "             us_holidays_name       price\n",
       "2                Columbus Day  237.838101\n",
       "10               Veterans Day  205.283324\n",
       "9                Thanksgiving  200.077407\n",
       "0               Christmas Day  198.380805\n",
       "3            Independence Day  197.900737\n",
       "1    Christmas Day (Observed)  196.901139\n",
       "7              New Year's Day  191.555994\n",
       "6                Memorial Day  190.034305\n",
       "4                   Labor Day  189.907829\n",
       "8   New Year's Day (Observed)  183.823384"
      ]
     },
     "execution_count": 14,
     "metadata": {},
     "output_type": "execute_result"
    }
   ],
   "source": [
    "holidayPriceDF=calendarDF.groupby('us_holidays_name').price.mean()\n",
    "holidayPriceDF=holidayPriceDF.reset_index()\n",
    "holidayPriceDF=holidayPriceDF.sort_values('price',ascending=[0])\n",
    "\n",
    "holidayPriceDF.head(10)"
   ]
  },
  {
   "cell_type": "code",
   "execution_count": 15,
   "metadata": {},
   "outputs": [
    {
     "data": {
      "text/plain": [
       "[Text(0, 0.5, 'Average Price'), Text(0.5, 0, 'US Holidays Name')]"
      ]
     },
     "execution_count": 15,
     "metadata": {},
     "output_type": "execute_result"
    },
    {
     "data": {
      "image/png": "[encoded data removed]",
      "text/plain": [
       "<Figure size 1368x576 with 1 Axes>"
      ]
     },
     "metadata": {},
     "output_type": "display_data"
    }
   ],
   "source": [
    "# visualizing the same\n",
    "import seaborn as sns\n",
    "import matplotlib.pyplot as plt\n",
    "\n",
    "plt.figure(figsize=(19,8))\n",
    "ax = sns.barplot(\"us_holidays_name\", y=\"price\", data=holidayPriceDF,palette=\"Blues_d\")\n",
    "ax.set(xlabel='US Holidays Name', ylabel='Average Price')"
   ]
  },
  {
   "cell_type": "code",
   "execution_count": 16,
   "metadata": {},
   "outputs": [
    {
     "data": {
      "text/html": [
       "<div>\n",
       "<style scoped>\n",
       "    .dataframe tbody tr th:only-of-type {\n",
       "        vertical-align: middle;\n",
       "    }\n",
       "\n",
       "    .dataframe tbody tr th {\n",
       "        vertical-align: top;\n",
       "    }\n",
       "\n",
       "    .dataframe thead th {\n",
       "        text-align: right;\n",
       "    }\n",
       "</style>\n",
       "<table border=\"1\" class=\"dataframe\">\n",
       "  <thead>\n",
       "    <tr style=\"text-align: right;\">\n",
       "      <th></th>\n",
       "      <th>us_holidays_name</th>\n",
       "      <th>number_Of_Listings</th>\n",
       "      <th>average_Price</th>\n",
       "    </tr>\n",
       "  </thead>\n",
       "  <tbody>\n",
       "    <tr>\n",
       "      <th>0</th>\n",
       "      <td>Thanksgiving</td>\n",
       "      <td>2067</td>\n",
       "      <td>200.077407</td>\n",
       "    </tr>\n",
       "    <tr>\n",
       "      <th>1</th>\n",
       "      <td>Martin Luther King, Jr. Day</td>\n",
       "      <td>2048</td>\n",
       "      <td>181.713867</td>\n",
       "    </tr>\n",
       "    <tr>\n",
       "      <th>2</th>\n",
       "      <td>Washington's Birthday</td>\n",
       "      <td>2036</td>\n",
       "      <td>179.407662</td>\n",
       "    </tr>\n",
       "    <tr>\n",
       "      <th>3</th>\n",
       "      <td>New Year's Day</td>\n",
       "      <td>2027</td>\n",
       "      <td>191.555994</td>\n",
       "    </tr>\n",
       "    <tr>\n",
       "      <th>4</th>\n",
       "      <td>New Year's Day (Observed)</td>\n",
       "      <td>2027</td>\n",
       "      <td>183.823384</td>\n",
       "    </tr>\n",
       "    <tr>\n",
       "      <th>5</th>\n",
       "      <td>Christmas Day</td>\n",
       "      <td>1938</td>\n",
       "      <td>198.380805</td>\n",
       "    </tr>\n",
       "    <tr>\n",
       "      <th>6</th>\n",
       "      <td>Christmas Day (Observed)</td>\n",
       "      <td>1932</td>\n",
       "      <td>196.901139</td>\n",
       "    </tr>\n",
       "    <tr>\n",
       "      <th>7</th>\n",
       "      <td>Labor Day</td>\n",
       "      <td>1801</td>\n",
       "      <td>189.907829</td>\n",
       "    </tr>\n",
       "    <tr>\n",
       "      <th>8</th>\n",
       "      <td>Veterans Day</td>\n",
       "      <td>1793</td>\n",
       "      <td>205.283324</td>\n",
       "    </tr>\n",
       "    <tr>\n",
       "      <th>9</th>\n",
       "      <td>Independence Day</td>\n",
       "      <td>1763</td>\n",
       "      <td>197.900737</td>\n",
       "    </tr>\n",
       "    <tr>\n",
       "      <th>10</th>\n",
       "      <td>Memorial Day</td>\n",
       "      <td>1749</td>\n",
       "      <td>190.034305</td>\n",
       "    </tr>\n",
       "    <tr>\n",
       "      <th>11</th>\n",
       "      <td>Columbus Day</td>\n",
       "      <td>1538</td>\n",
       "      <td>237.838101</td>\n",
       "    </tr>\n",
       "  </tbody>\n",
       "</table>\n",
       "</div>"
      ],
      "text/plain": [
       "               us_holidays_name  number_Of_Listings  average_Price\n",
       "0                  Thanksgiving                2067     200.077407\n",
       "1   Martin Luther King, Jr. Day                2048     181.713867\n",
       "2         Washington's Birthday                2036     179.407662\n",
       "3                New Year's Day                2027     191.555994\n",
       "4     New Year's Day (Observed)                2027     183.823384\n",
       "5                 Christmas Day                1938     198.380805\n",
       "6      Christmas Day (Observed)                1932     196.901139\n",
       "7                     Labor Day                1801     189.907829\n",
       "8                  Veterans Day                1793     205.283324\n",
       "9              Independence Day                1763     197.900737\n",
       "10                 Memorial Day                1749     190.034305\n",
       "11                 Columbus Day                1538     237.838101"
      ]
     },
     "execution_count": 16,
     "metadata": {},
     "output_type": "execute_result"
    }
   ],
   "source": [
    "merger=pd.merge(holidayDF,holidayPriceDF,on='us_holidays_name')\n",
    "merger=merger.rename(columns={'listing_id':'number_Of_Listings'})\n",
    "merger=merger.rename(columns={'price':'average_Price'})\n",
    "merger"
   ]
  },
  {
   "cell_type": "markdown",
   "metadata": {},
   "source": [
    "#从2016年9月和10月的数据中观察民宿平均价格的变动"
   ]
  },
  {
   "cell_type": "code",
   "execution_count": 17,
   "metadata": {},
   "outputs": [
    {
     "data": {
      "text/html": [
       "<div>\n",
       "<style scoped>\n",
       "    .dataframe tbody tr th:only-of-type {\n",
       "        vertical-align: middle;\n",
       "    }\n",
       "\n",
       "    .dataframe tbody tr th {\n",
       "        vertical-align: top;\n",
       "    }\n",
       "\n",
       "    .dataframe thead th {\n",
       "        text-align: right;\n",
       "    }\n",
       "</style>\n",
       "<table border=\"1\" class=\"dataframe\">\n",
       "  <thead>\n",
       "    <tr style=\"text-align: right;\">\n",
       "      <th></th>\n",
       "      <th>Year</th>\n",
       "      <th>Month</th>\n",
       "      <th>holiday</th>\n",
       "      <th>price</th>\n",
       "    </tr>\n",
       "  </thead>\n",
       "  <tbody>\n",
       "    <tr>\n",
       "      <th>0</th>\n",
       "      <td>2016</td>\n",
       "      <td>09</td>\n",
       "      <td>False</td>\n",
       "      <td>252.677308</td>\n",
       "    </tr>\n",
       "    <tr>\n",
       "      <th>1</th>\n",
       "      <td>2016</td>\n",
       "      <td>10</td>\n",
       "      <td>False</td>\n",
       "      <td>233.264468</td>\n",
       "    </tr>\n",
       "    <tr>\n",
       "      <th>2</th>\n",
       "      <td>2016</td>\n",
       "      <td>10</td>\n",
       "      <td>True</td>\n",
       "      <td>237.838101</td>\n",
       "    </tr>\n",
       "  </tbody>\n",
       "</table>\n",
       "</div>"
      ],
      "text/plain": [
       "   Year Month  holiday       price\n",
       "0  2016    09    False  252.677308\n",
       "1  2016    10    False  233.264468\n",
       "2  2016    10     True  237.838101"
      ]
     },
     "execution_count": 17,
     "metadata": {},
     "output_type": "execute_result"
    }
   ],
   "source": [
    "#analyzing data of september and october\n",
    "\n",
    "checkHolidaysDF=calendarDF[(calendarDF['Year'] == '2016') & ((calendarDF['Month'] == '09') |(calendarDF['Month'] == '10'))]\n",
    "checkHolidaysDF=checkHolidaysDF.groupby(['Year','Month','holiday']).price.mean()\n",
    "checkHolidaysDF=checkHolidaysDF.reset_index()\n",
    "checkHolidaysDF.head()"
   ]
  },
  {
   "cell_type": "markdown",
   "metadata": {
    "collapsed": true
   },
   "source": [
    "#我们可以看到，十月份的周末，民宿的平均价格比平常要高"
   ]
  },
  {
   "cell_type": "code",
   "execution_count": 18,
   "metadata": {},
   "outputs": [
    {
     "data": {
      "text/plain": [
       "Month\n",
       "10    244.633573\n",
       "Name: price, dtype: float64"
      ]
     },
     "execution_count": 18,
     "metadata": {},
     "output_type": "execute_result"
    }
   ],
   "source": [
    "#analyzing longweekednd holiday days\n",
    "\n",
    "columbusDF=calendarDF[(calendarDF['Year'] == '2016') & (calendarDF['Month'] == '10' ) & ((calendarDF['Day'] == '08') | (calendarDF['Day'] == '09') | (calendarDF['Day'] == '10'))]\n",
    "columbusDF.groupby('Month').price.mean()\n"
   ]
  },
  {
   "cell_type": "code",
   "execution_count": 19,
   "metadata": {},
   "outputs": [
    {
     "data": {
      "text/plain": [
       "Month\n",
       "10    233.416248\n",
       "Name: price, dtype: float64"
      ]
     },
     "execution_count": 19,
     "metadata": {},
     "output_type": "execute_result"
    }
   ],
   "source": [
    "#analyzing rest of the days\n",
    "\n",
    "NocolumbusDF=calendarDF[(calendarDF['Year'] == '2016') & (calendarDF['Month'] == '10' ) & ((calendarDF['Day'] != '08') | (calendarDF['Day'] != '09') | (calendarDF['Day'] != '10'))]\n",
    "NocolumbusDF.groupby('Month').price.mean()"
   ]
  },
  {
   "cell_type": "markdown",
   "metadata": {},
   "source": [
    "#周末的平均价格是244.63，平时的价格是233.42，因此我们可以认为周末的价格比平时工作日高"
   ]
  },
  {
   "cell_type": "code",
   "execution_count": 20,
   "metadata": {},
   "outputs": [
    {
     "data": {
      "text/html": [
       "<div>\n",
       "<style scoped>\n",
       "    .dataframe tbody tr th:only-of-type {\n",
       "        vertical-align: middle;\n",
       "    }\n",
       "\n",
       "    .dataframe tbody tr th {\n",
       "        vertical-align: top;\n",
       "    }\n",
       "\n",
       "    .dataframe thead th {\n",
       "        text-align: right;\n",
       "    }\n",
       "</style>\n",
       "<table border=\"1\" class=\"dataframe\">\n",
       "  <thead>\n",
       "    <tr style=\"text-align: right;\">\n",
       "      <th></th>\n",
       "      <th>Day</th>\n",
       "      <th>Average_Price</th>\n",
       "    </tr>\n",
       "  </thead>\n",
       "  <tbody>\n",
       "    <tr>\n",
       "      <th>0</th>\n",
       "      <td>05</td>\n",
       "      <td>229.066098</td>\n",
       "    </tr>\n",
       "    <tr>\n",
       "      <th>1</th>\n",
       "      <td>06</td>\n",
       "      <td>234.144895</td>\n",
       "    </tr>\n",
       "    <tr>\n",
       "      <th>2</th>\n",
       "      <td>07</td>\n",
       "      <td>247.385878</td>\n",
       "    </tr>\n",
       "    <tr>\n",
       "      <th>3</th>\n",
       "      <td>08</td>\n",
       "      <td>255.423423</td>\n",
       "    </tr>\n",
       "    <tr>\n",
       "      <th>4</th>\n",
       "      <td>09</td>\n",
       "      <td>242.703756</td>\n",
       "    </tr>\n",
       "    <tr>\n",
       "      <th>5</th>\n",
       "      <td>10</td>\n",
       "      <td>237.838101</td>\n",
       "    </tr>\n",
       "    <tr>\n",
       "      <th>6</th>\n",
       "      <td>11</td>\n",
       "      <td>228.388535</td>\n",
       "    </tr>\n",
       "    <tr>\n",
       "      <th>7</th>\n",
       "      <td>12</td>\n",
       "      <td>228.694553</td>\n",
       "    </tr>\n",
       "    <tr>\n",
       "      <th>8</th>\n",
       "      <td>13</td>\n",
       "      <td>232.259210</td>\n",
       "    </tr>\n",
       "  </tbody>\n",
       "</table>\n",
       "</div>"
      ],
      "text/plain": [
       "  Day  Average_Price\n",
       "0  05     229.066098\n",
       "1  06     234.144895\n",
       "2  07     247.385878\n",
       "3  08     255.423423\n",
       "4  09     242.703756\n",
       "5  10     237.838101\n",
       "6  11     228.388535\n",
       "7  12     228.694553\n",
       "8  13     232.259210"
      ]
     },
     "execution_count": 20,
     "metadata": {},
     "output_type": "execute_result"
    }
   ],
   "source": [
    "# analyzing data from date 5th of October to date 13th of October which includes both long weekend and normal workdays\n",
    "\n",
    "octDF=calendarDF[(calendarDF['Year'] == '2016') & (calendarDF['Month'] == '10' )& ((calendarDF['Day'] == '05' )| (calendarDF['Day'] == '06' )| (calendarDF['Day'] == '07' )| (calendarDF['Day'] == '08' )| (calendarDF['Day'] == '09' )| (calendarDF['Day'] == '10' )| (calendarDF['Day'] == '10' )| (calendarDF['Day'] == '11' )| (calendarDF['Day'] == '12' )| (calendarDF['Day'] == '13' ))]\n",
    "octDF=octDF.groupby('Day').price.mean()\n",
    "octDF=octDF.reset_index()\n",
    "octDF=octDF.sort_values('Day',ascending=[1])\n",
    "octDF=octDF.rename(columns={'price':'Average_Price'})\n",
    "octDF.head(10)"
   ]
  },
  {
   "cell_type": "code",
   "execution_count": 21,
   "metadata": {},
   "outputs": [
    {
     "data": {
      "image/png": "[encoded data removed]",
      "text/plain": [
       "<Figure size 432x288 with 1 Axes>"
      ]
     },
     "metadata": {},
     "output_type": "display_data"
    }
   ],
   "source": [
    "import numpy as np\n",
    "import matplotlib.pyplot as plt\n",
    "\n",
    "x=octDF['Day'].tolist()\n",
    "y=octDF['Average_Price'].tolist()\n",
    "\n",
    "plt.plot(x,y, 'ro-')\n",
    "plt.ylabel('Average Price')\n",
    "plt.xlabel('Days')\n",
    "plt.show()"
   ]
  },
  {
   "cell_type": "markdown",
   "metadata": {},
   "source": [
    "#从曲线图中我们更可以得出结论，周末的平均价格是高于工作日的"
   ]
  }
 ],
 "metadata": {
  "kernelspec": {
   "display_name": "Python 3",
   "language": "python",
   "name": "python3"
  },
  "language_info": {
   "codemirror_mode": {
    "name": "ipython",
    "version": 3
   },
   "file_extension": ".py",
   "mimetype": "text/x-python",
   "name": "python",
   "nbconvert_exporter": "python",
   "pygments_lexer": "ipython3",
   "version": "3.7.4"
  }
 },
 "nbformat": 4,
 "nbformat_minor": 2
}
